{
 "cells": [
  {
   "cell_type": "code",
   "execution_count": 1,
   "id": "5e28b143",
   "metadata": {},
   "outputs": [
    {
     "name": "stderr",
     "output_type": "stream",
     "text": [
      "/home/chengz35/miniconda3/envs/pyto1.13/lib/python3.8/site-packages/tqdm/auto.py:22: TqdmWarning: IProgress not found. Please update jupyter and ipywidgets. See https://ipywidgets.readthedocs.io/en/stable/user_install.html\n",
      "  from .autonotebook import tqdm as notebook_tqdm\n"
     ]
    }
   ],
   "source": [
    "import os\n",
    "import h5py\n",
    "import time\n",
    "import copy\n",
    "import json\n",
    "\n",
    "import numpy as np\n",
    "import torch\n",
    "import scipy\n",
    "from sklearn.metrics import f1_score, matthews_corrcoef\n",
    "\n",
    "from span import Span"
   ]
  },
  {
   "cell_type": "code",
   "execution_count": 3,
   "id": "d5c3f464",
   "metadata": {},
   "outputs": [],
   "source": [
    "class Args():\n",
    "    def __init__(self, data_file, output_file, dic):\n",
    "        #self.data_file = data_file\n",
    "        for k,v in dic.items():\n",
    "            setattr(self, k, v)\n",
    "        self.data_file = data_file\n",
    "        self.output_file = output_file\n",
    "\n",
    "with open('config.json', 'r') as openfile:\n",
    "    dic = json.load(openfile)\n",
    "    \n",
    "args = Args('simdata/simdata.h5', 'test.csv', dic)"
   ]
  },
  {
   "cell_type": "code",
   "execution_count": 4,
   "id": "f7638636",
   "metadata": {},
   "outputs": [
    {
     "name": "stdout",
     "output_type": "stream",
     "text": [
      "epoch 0 loss: 434.37563184737627\n",
      "pretrain acc,  0.8111326502353918\n",
      "\n",
      "epoch 0 acc,  0.8518415951260039\n",
      "epoch 1 acc,  0.8723345333702576\n",
      "epoch 2 acc,  0.8836887288839657\n",
      "epoch 3 acc,  0.8958737191913597\n",
      "epoch 4 acc,  0.9041816671282193\n",
      "epoch 5 acc,  0.9135973414566602\n",
      "epoch 6 acc,  0.9210744945998338\n",
      "epoch 7 acc,  0.9313209637219607\n",
      "epoch 8 acc,  0.9382442536693437\n",
      "epoch 9 acc,  0.9448906120188314\n",
      "epoch 10 acc,  0.9490445859872612\n",
      "epoch 11 acc,  0.9515369703683191\n",
      "epoch 12 acc,  0.9540293547493769\n",
      "epoch 13 acc,  0.9565217391304348\n",
      "epoch 14 acc,  0.9576294655220161\n",
      "epoch 15 acc,  0.9598449183051786\n",
      "epoch 16 acc,  0.9623373026862365\n",
      "epoch 17 acc,  0.9651066186651897\n",
      "epoch 18 acc,  0.9670451398504569\n",
      "epoch 19 acc,  0.971476045416782\n",
      "epoch 20 acc,  0.973137635004154\n",
      "epoch 21 acc,  0.9753530877873166\n",
      "epoch 22 acc,  0.9761838825810025\n",
      "epoch 23 acc,  0.979230130157851\n",
      "epoch 24 acc,  0.9808917197452229\n",
      "epoch 25 acc,  0.9822763777346996\n",
      "epoch 26 acc,  0.9833841041262809\n",
      "epoch 27 acc,  0.9842148989199667\n",
      "epoch 28 acc,  0.986153420105234\n",
      "epoch 29 acc,  0.98698421489892\n"
     ]
    }
   ],
   "source": [
    "h5 = h5py.File(args.data_file, 'r')\n",
    "Y = np.array(h5['genes'])  #[n]\n",
    "label = np.array(h5['group']) if 'group' in h5.keys() else None\n",
    "rho = np.array(h5['rho'])\n",
    "Z_neighbor_idx = np.array(h5['Z_neighbor_idx'])\n",
    "batch_matrix = np.array(h5['batch_matrix']) if 'batch_matrix' in h5.keys() else None\n",
    "h5.close()\n",
    "    \n",
    "if batch_matrix is not None:\n",
    "    n_cov = batch_matrix.shape[1]\n",
    "else:\n",
    "    n_cov = 0\n",
    "        \n",
    "S = Y.sum(axis = 1, keepdims=True)\n",
    "S = S/np.mean(S)    \n",
    "        \n",
    "model = Span(Y.shape[0], rho.shape[0], rho.shape[1], rho, Y, S, Z_neighbor_idx,\n",
    "                    n_cov  = n_cov, cov_matrix = batch_matrix, \n",
    "                    batch_size = args.batch_size, B = 10).to(args.device)\n",
    "        \n",
    "model.pre_train_model(max_iter_em = args.max_iter_em_pretrain, min_iter_adam = args.min_iter_adam_pretrain, \n",
    "                          max_iter_adam = args.max_iter_adam_pretrain, lr_adam = args.lr_adam,\n",
    "                            rel_tol_adam = args.rel_tol_adam, \n",
    "                          y_true = label)\n",
    "    \n",
    "model.train_model(max_iter_em = args.max_iter_em_train, min_iter_adam = args.min_iter_adam_train, \n",
    "                  max_iter_adam = args.max_iter_adam_train, lr_adam = args.lr_adam, \n",
    "                  y_true = label)\n",
    "    \n"
   ]
  },
  {
   "cell_type": "code",
   "execution_count": 9,
   "id": "0ed1fa8f",
   "metadata": {},
   "outputs": [
    {
     "name": "stdout",
     "output_type": "stream",
     "text": [
      "F1:  0.985\n"
     ]
    }
   ],
   "source": [
    "f1 = f1_score(label, model.Z_current,  average = 'macro')\n",
    "print('F1: ', np.round(f1, 3))"
   ]
  },
  {
   "cell_type": "code",
   "execution_count": 10,
   "id": "70d1b152",
   "metadata": {},
   "outputs": [
    {
     "name": "stdout",
     "output_type": "stream",
     "text": [
      "MCC:  0.984\n"
     ]
    }
   ],
   "source": [
    "mcc = matthews_corrcoef(label, model.Z_current)\n",
    "print('MCC: ', np.round(mcc, 3))"
   ]
  },
  {
   "cell_type": "code",
   "execution_count": null,
   "id": "d85af087",
   "metadata": {},
   "outputs": [],
   "source": [
    "np.savetxt(args.output_file, model.Z_current, delimiter=\",\")"
   ]
  }
 ],
 "metadata": {
  "kernelspec": {
   "display_name": "Python 3 (ipykernel)",
   "language": "python",
   "name": "python3"
  },
  "language_info": {
   "codemirror_mode": {
    "name": "ipython",
    "version": 3
   },
   "file_extension": ".py",
   "mimetype": "text/x-python",
   "name": "python",
   "nbconvert_exporter": "python",
   "pygments_lexer": "ipython3",
   "version": "3.8.16"
  }
 },
 "nbformat": 4,
 "nbformat_minor": 5
}
