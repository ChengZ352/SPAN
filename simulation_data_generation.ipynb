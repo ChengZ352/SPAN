{
 "cells": [
  {
   "cell_type": "markdown",
   "id": "ea75714f",
   "metadata": {},
   "source": [
    "### R code, generate count data"
   ]
  },
  {
   "cell_type": "code",
   "execution_count": null,
   "id": "3f93c6a6",
   "metadata": {},
   "outputs": [],
   "source": [
    "library(splatter)\n",
    "library(\"rhdf5\")\n",
    "\n",
    "all.dropout.rate <- c()\n",
    "\n",
    "g_prob = c(0.07560233, 0.07006369, 0.27388535, 0.06037109, 0.18637497, 0.19163667, 0.14206591)\n",
    "\n",
    "for (i in 1:10){\n",
    "    file <- paste('.../path/sim', i, \".h5\", sep=\"\")\n",
    "    \n",
    "    sim <- splatSimulate(group.prob = g_prob, nGenes=2500, batchCells=5000,\n",
    "                     dropout.type=\"experiment\", method='groups', de.downProb = 0.,\n",
    "                     dropout.shape=-1, dropout.mid=2., de.facScale = 0.3, de.prob = 0.05, \n",
    "                     seed = 0+i)\n",
    "\n",
    "    counts <- counts(sim)\n",
    "\n",
    "    dropcounts <- sim@assays@data$counts\n",
    "    truecounts <- sim@assays@data$TrueCounts\n",
    "    dropout.rate <- (sum(dropcounts==0)-sum(truecounts==0))/sum(truecounts>0)\n",
    " \n",
    "    marker = rowData(sim)[c(\"DEFacGroup1\", \"DEFacGroup2\", \"DEFacGroup3\", \"DEFacGroup4\",\n",
    "                            \"DEFacGroup5\", \"DEFacGroup6\", \"DEFacGroup7\")]\n",
    "\n",
    "    h5write(as.matrix(marker), file, \"mark\")\n",
    "    h5write(as.matrix(counts), file, \"X\")\n",
    "    h5write(as.matrix(truecounts), file, \"X_true\")\n",
    "    h5write( as.integer(colData(sim)$Group), file, \"Y\")\n",
    "}"
   ]
  },
  {
   "cell_type": "code",
   "execution_count": null,
   "id": "b8a11884",
   "metadata": {},
   "outputs": [],
   "source": []
  },
  {
   "cell_type": "markdown",
   "id": "d205aacc",
   "metadata": {},
   "source": [
    "### Python code, assign count data to the spatial spot"
   ]
  },
  {
   "cell_type": "code",
   "execution_count": 1,
   "id": "53946108",
   "metadata": {},
   "outputs": [],
   "source": [
    "import numpy as np\n",
    "import pandas as pd\n",
    "import h5py\n",
    "import scanpy as sc\n",
    "import seaborn as sns\n",
    "from sklearn.decomposition import PCA\n",
    "import matplotlib.pyplot as plt\n",
    "import os\n",
    "import pdb"
   ]
  },
  {
   "cell_type": "code",
   "execution_count": 2,
   "id": "d617fcd2",
   "metadata": {},
   "outputs": [],
   "source": [
    "neighbor_file = '.../path/neighbor.csv'\n",
    "df = pd.read_csv(neighbor_file,)"
   ]
  },
  {
   "cell_type": "code",
   "execution_count": 3,
   "id": "4267136f",
   "metadata": {},
   "outputs": [
    {
     "data": {
      "text/html": [
       "<div>\n",
       "<style scoped>\n",
       "    .dataframe tbody tr th:only-of-type {\n",
       "        vertical-align: middle;\n",
       "    }\n",
       "\n",
       "    .dataframe tbody tr th {\n",
       "        vertical-align: top;\n",
       "    }\n",
       "\n",
       "    .dataframe thead th {\n",
       "        text-align: right;\n",
       "    }\n",
       "</style>\n",
       "<table border=\"1\" class=\"dataframe\">\n",
       "  <thead>\n",
       "    <tr style=\"text-align: right;\">\n",
       "      <th></th>\n",
       "      <th>y</th>\n",
       "      <th>N1</th>\n",
       "      <th>N2</th>\n",
       "      <th>N3</th>\n",
       "      <th>N4</th>\n",
       "      <th>N5</th>\n",
       "      <th>N6</th>\n",
       "    </tr>\n",
       "  </thead>\n",
       "  <tbody>\n",
       "    <tr>\n",
       "      <th>0</th>\n",
       "      <td>2</td>\n",
       "      <td>393</td>\n",
       "      <td>1051</td>\n",
       "      <td>3516</td>\n",
       "      <td>2106</td>\n",
       "      <td>480</td>\n",
       "      <td>2311</td>\n",
       "    </tr>\n",
       "    <tr>\n",
       "      <th>1</th>\n",
       "      <td>0</td>\n",
       "      <td>685</td>\n",
       "      <td>1604</td>\n",
       "      <td>2316</td>\n",
       "      <td>-1</td>\n",
       "      <td>-1</td>\n",
       "      <td>-1</td>\n",
       "    </tr>\n",
       "  </tbody>\n",
       "</table>\n",
       "</div>"
      ],
      "text/plain": [
       "   y   N1    N2    N3    N4   N5    N6\n",
       "0  2  393  1051  3516  2106  480  2311\n",
       "1  0  685  1604  2316    -1   -1    -1"
      ]
     },
     "execution_count": 3,
     "metadata": {},
     "output_type": "execute_result"
    }
   ],
   "source": [
    "# y: cluster label\n",
    "# N1~N*: index of the neighbor of the spot i (-1: not existed)\n",
    "df[:2]"
   ]
  },
  {
   "cell_type": "code",
   "execution_count": 6,
   "id": "74cd116d",
   "metadata": {},
   "outputs": [
    {
     "name": "stdout",
     "output_type": "stream",
     "text": [
      "[273 253 989 218 673 692 513]\n"
     ]
    }
   ],
   "source": [
    "y_count_gt = np.unique(df['y'], return_counts = True)[1]\n",
    "N = df.shape[0]\n",
    "print(y_count_gt)"
   ]
  },
  {
   "cell_type": "code",
   "execution_count": null,
   "id": "dddf64db",
   "metadata": {},
   "outputs": [],
   "source": [
    "folder = '.../path'\n",
    "mark_level = 1.5\n",
    "\n",
    "for i in range(1,10):\n",
    "    data_file='{}/sim{}.h5'.format(folder, i)\n",
    "    data_mat = h5py.File(data_file, 'r')\n",
    "    x = np.array(data_mat['X'])\n",
    "    x_true = np.array(data_mat['X_true'])\n",
    "    label = np.array(data_mat['Y'])\n",
    "    marker = np.array(data_mat['mark'])\n",
    "    data_mat.close()\n",
    "    \n",
    "    label = label - 1\n",
    "    temp = []\n",
    "    \n",
    "    # sample exact number to fill the spacial \n",
    "    for c in range(7):\n",
    "        sub = np.where(label==c)[0]\n",
    "        np.random.seed(i)\n",
    "        temp.append( np.random.choice(sub, size=y_count_gt[c], replace=False) )\n",
    "        \n",
    "    idx = - np.ones(N).astype(int)\n",
    "    for c in range(np.unique(label).shape[0]):\n",
    "        idx[df_c_nb.y==c] = temp[c]\n",
    "        \n",
    "        \n",
    "    x_sub = x[idx,:]\n",
    "    label_sub = label[idx]\n",
    "    \n",
    "    marker = marker.T\n",
    "    mask = np.sum(marker > mark_level, axis=1)\n",
    "    mask = (mask!=0)\n",
    "    marker1 = (marker > mark_level)[mask]\n",
    "    \n",
    "    x_marker = x_sub[:, mask]\n",
    "\n",
    "  \n",
    "    h5 = h5py.File('{}/sim_data_{}.h5'.format(folder, i),'w')\n",
    "    h5.create_dataset('genes', data = x_marker)\n",
    "    h5.create_dataset('rho', data = marker1.astype(int))\n",
    "    h5.create_dataset('group', data = label_sub)\n",
    "    h5.create_dataset('Z_neighbor_idx', data = df_c_nb.loc[:,'N1':].values)\n",
    "    h5.close()"
   ]
  },
  {
   "cell_type": "code",
   "execution_count": null,
   "id": "9ea668af",
   "metadata": {},
   "outputs": [],
   "source": []
  }
 ],
 "metadata": {
  "kernelspec": {
   "display_name": "Python 3 (ipykernel)",
   "language": "python",
   "name": "python3"
  },
  "language_info": {
   "codemirror_mode": {
    "name": "ipython",
    "version": 3
   },
   "file_extension": ".py",
   "mimetype": "text/x-python",
   "name": "python",
   "nbconvert_exporter": "python",
   "pygments_lexer": "ipython3",
   "version": "3.8.16"
  }
 },
 "nbformat": 4,
 "nbformat_minor": 5
}
