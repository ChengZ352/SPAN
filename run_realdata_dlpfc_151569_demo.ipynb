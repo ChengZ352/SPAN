{
 "cells": [
  {
   "cell_type": "code",
   "execution_count": 1,
   "id": "c643314d",
   "metadata": {},
   "outputs": [
    {
     "name": "stderr",
     "output_type": "stream",
     "text": [
      "/home/chengz35/miniconda3/envs/pyto1.13/lib/python3.8/site-packages/tqdm/auto.py:22: TqdmWarning: IProgress not found. Please update jupyter and ipywidgets. See https://ipywidgets.readthedocs.io/en/stable/user_install.html\n",
      "  from .autonotebook import tqdm as notebook_tqdm\n"
     ]
    }
   ],
   "source": [
    "import os\n",
    "import h5py\n",
    "import time\n",
    "import copy\n",
    "import json\n",
    "\n",
    "import numpy as np\n",
    "import torch\n",
    "import scipy\n",
    "from sklearn.metrics import f1_score, matthews_corrcoef\n",
    "\n",
    "from span import Span"
   ]
  },
  {
   "cell_type": "code",
   "execution_count": 2,
   "id": "a07121cc",
   "metadata": {},
   "outputs": [],
   "source": [
    "class Args():\n",
    "    def __init__(self, data_file, output_file, dic):\n",
    "        #self.data_file = data_file\n",
    "        for k,v in dic.items():\n",
    "            setattr(self, k, v)\n",
    "        self.data_file = data_file\n",
    "        self.output_file = output_file\n",
    "\n",
    "with open('config.json', 'r') as openfile:\n",
    "    dic = json.load(openfile)\n",
    "    \n",
    "args = Args('real_data_demo/dlpfc_151569_r.h5', 'results.csv', dic)"
   ]
  },
  {
   "cell_type": "code",
   "execution_count": 3,
   "id": "6ee566b7",
   "metadata": {},
   "outputs": [
    {
     "name": "stdout",
     "output_type": "stream",
     "text": [
      "epoch 0 loss: 47.5450983253711\n",
      "pretrain acc,  0.4818355640535373\n",
      "\n",
      "epoch 0 acc,  0.6866976236001092\n",
      "epoch 1 acc,  0.7508877355913685\n",
      "epoch 2 acc,  0.7787489756897022\n",
      "epoch 3 acc,  0.784758262769735\n",
      "epoch 4 acc,  0.7913138486752254\n",
      "epoch 5 acc,  0.7921332969134116\n",
      "epoch 6 acc,  0.7962305381043431\n",
      "epoch 7 acc,  0.7959573886916144\n",
      "epoch 8 acc,  0.8000546298825457\n",
      "epoch 9 acc,  0.8000546298825457\n",
      "epoch 10 acc,  0.801966675771647\n",
      "epoch 11 acc,  0.8027861240098334\n",
      "epoch 12 acc,  0.805517618137121\n",
      "epoch 13 acc,  0.805517618137121\n",
      "epoch 14 acc,  0.8074296640262223\n",
      "epoch 15 acc,  0.8074296640262223\n",
      "epoch 16 acc,  0.8098880087407813\n",
      "epoch 17 acc,  0.81016115815351\n",
      "epoch 18 acc,  0.8123463534553401\n",
      "epoch 19 acc,  0.8123463534553401\n",
      "epoch 20 acc,  0.8134389511062551\n",
      "epoch 21 acc,  0.8123463534553401\n",
      "epoch 22 acc,  0.8134389511062551\n",
      "epoch 23 acc,  0.8123463534553401\n",
      "epoch 24 acc,  0.8137121005189839\n",
      "epoch 25 acc,  0.8131658016935264\n",
      "epoch 26 acc,  0.8150778475826277\n",
      "epoch 27 acc,  0.8145315487571702\n",
      "epoch 28 acc,  0.8158972958208139\n",
      "epoch 29 acc,  0.8150778475826277\n"
     ]
    }
   ],
   "source": [
    "h5 = h5py.File(args.data_file, 'r')\n",
    "Y = np.array(h5['genes'])  #[n]\n",
    "label = np.array(h5['group']) if 'group' in h5.keys() else None\n",
    "rho = np.array(h5['rho'])\n",
    "Z_neighbor_idx = np.array(h5['Z_neighbor_idx'])\n",
    "batch_matrix = np.array(h5['batch_matrix']) if 'batch_matrix' in h5.keys() else None\n",
    "h5.close()\n",
    "    \n",
    "if batch_matrix is not None:\n",
    "    n_cov = batch_matrix.shape[1]\n",
    "else:\n",
    "    n_cov = 0\n",
    "        \n",
    "S = Y.sum(axis = 1, keepdims=True)\n",
    "S = S/np.mean(S)    \n",
    "        \n",
    "model = Span(Y.shape[0], rho.shape[0], rho.shape[1], rho, Y, S, Z_neighbor_idx,\n",
    "                    n_cov  = n_cov, cov_matrix = batch_matrix, \n",
    "                    batch_size = args.batch_size, B = 10).to(args.device)\n",
    "        \n",
    "model.pre_train_model(max_iter_em = args.max_iter_em_pretrain, min_iter_adam = args.min_iter_adam_pretrain, \n",
    "                          max_iter_adam = args.max_iter_adam_pretrain, lr_adam = args.lr_adam,\n",
    "                            rel_tol_adam = args.rel_tol_adam, \n",
    "                          y_true = label)\n",
    "    \n",
    "model.train_model(max_iter_em = args.max_iter_em_train, min_iter_adam = args.min_iter_adam_train, \n",
    "                  max_iter_adam = args.max_iter_adam_train, lr_adam = args.lr_adam, \n",
    "                  y_true = label)"
   ]
  },
  {
   "cell_type": "code",
   "execution_count": 4,
   "id": "5995b54a",
   "metadata": {},
   "outputs": [],
   "source": [
    "mask = (label != np.max(label))"
   ]
  },
  {
   "cell_type": "code",
   "execution_count": 5,
   "id": "946a7453",
   "metadata": {},
   "outputs": [
    {
     "name": "stdout",
     "output_type": "stream",
     "text": [
      "Accuracy:  0.821\n"
     ]
    }
   ],
   "source": [
    "print('Accuracy: ', np.round(np.mean((label==model.Z_current)[mask]),3) )"
   ]
  },
  {
   "cell_type": "code",
   "execution_count": 6,
   "id": "6cc725ea",
   "metadata": {},
   "outputs": [
    {
     "name": "stdout",
     "output_type": "stream",
     "text": [
      "F1:  0.739\n"
     ]
    }
   ],
   "source": [
    "f1 = f1_score(label[mask], model.Z_current[mask],  average = 'macro')\n",
    "print('F1: ', np.round(f1, 3))"
   ]
  },
  {
   "cell_type": "code",
   "execution_count": 7,
   "id": "673143f3",
   "metadata": {},
   "outputs": [
    {
     "name": "stdout",
     "output_type": "stream",
     "text": [
      "MCC:  0.721\n"
     ]
    }
   ],
   "source": [
    "mcc = matthews_corrcoef(label[mask], model.Z_current[mask])\n",
    "print('MCC: ', np.round(mcc, 3))"
   ]
  },
  {
   "cell_type": "code",
   "execution_count": null,
   "id": "bd811343",
   "metadata": {},
   "outputs": [],
   "source": [
    "np.savetxt(args.output_file, model.Z_current, delimiter=\",\")"
   ]
  }
 ],
 "metadata": {
  "kernelspec": {
   "display_name": "Python 3 (ipykernel)",
   "language": "python",
   "name": "python3"
  },
  "language_info": {
   "codemirror_mode": {
    "name": "ipython",
    "version": 3
   },
   "file_extension": ".py",
   "mimetype": "text/x-python",
   "name": "python",
   "nbconvert_exporter": "python",
   "pygments_lexer": "ipython3",
   "version": "3.8.16"
  }
 },
 "nbformat": 4,
 "nbformat_minor": 5
}
